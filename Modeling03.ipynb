{
 "cells": [
  {
   "cell_type": "markdown",
   "metadata": {
    "colab_type": "text",
    "id": "view-in-github"
   },
   "source": [
    "<a href=\"https://colab.research.google.com/github/chloecmin/AI-Contest_Prediction-Who-Will-Vote/blob/master/Modeling02.ipynb\" target=\"_parent\"><img src=\"https://colab.research.google.com/assets/colab-badge.svg\" alt=\"Open In Colab\"/></a>"
   ]
  },
  {
   "cell_type": "code",
   "execution_count": 1,
   "metadata": {
    "id": "Cmng4N-BxxV9"
   },
   "outputs": [
    {
     "name": "stderr",
     "output_type": "stream",
     "text": [
      "C:\\Users\\jw517\\Anaconda3\\lib\\site-packages\\statsmodels\\tools\\_testing.py:19: FutureWarning: pandas.util.testing is deprecated. Use the functions in the public API at pandas.testing instead.\n",
      "  import pandas.util.testing as tm\n"
     ]
    }
   ],
   "source": [
    "import pickle\n",
    "import numpy as np\n",
    "import pandas as pd\n",
    "import matplotlib.pyplot as plt\n",
    "import seaborn as sns\n",
    "from collections import Counter\n",
    "from sklearn.ensemble import RandomForestClassifier, AdaBoostClassifier, GradientBoostingClassifier, ExtraTreesClassifier, VotingClassifier\n",
    "from sklearn.discriminant_analysis import LinearDiscriminantAnalysis\n",
    "from sklearn.linear_model import LogisticRegression\n",
    "from sklearn.neighbors import KNeighborsClassifier\n",
    "from sklearn.tree import DecisionTreeClassifier\n",
    "from sklearn.neural_network import MLPClassifier\n",
    "from sklearn.svm import SVC\n",
    "from sklearn.model_selection import GridSearchCV, cross_val_score, StratifiedKFold, learning_curve"
   ]
  },
  {
   "cell_type": "code",
   "execution_count": 5,
   "metadata": {
    "id": "BVLj4bKaxxWH"
   },
   "outputs": [],
   "source": [
    "train = pd.read_csv('../train.csv')\n",
    "test = pd.read_csv('../test_x.csv')"
   ]
  },
  {
   "cell_type": "markdown",
   "metadata": {
    "id": "5D2HQo6ExxWN"
   },
   "source": [
    "## Preprocessing"
   ]
  },
  {
   "cell_type": "code",
   "execution_count": 6,
   "metadata": {
    "colab": {
     "base_uri": "https://localhost:8080/",
     "height": 222
    },
    "id": "pLtebGlGxxWO",
    "outputId": "b574b5a5-47d1-4bed-b6d5-d93167abb936"
   },
   "outputs": [
    {
     "data": {
      "text/html": [
       "<div>\n",
       "<style scoped>\n",
       "    .dataframe tbody tr th:only-of-type {\n",
       "        vertical-align: middle;\n",
       "    }\n",
       "\n",
       "    .dataframe tbody tr th {\n",
       "        vertical-align: top;\n",
       "    }\n",
       "\n",
       "    .dataframe thead th {\n",
       "        text-align: right;\n",
       "    }\n",
       "</style>\n",
       "<table border=\"1\" class=\"dataframe\">\n",
       "  <thead>\n",
       "    <tr style=\"text-align: right;\">\n",
       "      <th></th>\n",
       "      <th>index</th>\n",
       "      <th>QaA</th>\n",
       "      <th>QaE</th>\n",
       "      <th>QbA</th>\n",
       "      <th>QbE</th>\n",
       "      <th>QcA</th>\n",
       "      <th>QcE</th>\n",
       "      <th>QdA</th>\n",
       "      <th>QdE</th>\n",
       "      <th>QeA</th>\n",
       "      <th>...</th>\n",
       "      <th>wr_04</th>\n",
       "      <th>wr_05</th>\n",
       "      <th>wr_06</th>\n",
       "      <th>wr_07</th>\n",
       "      <th>wr_08</th>\n",
       "      <th>wr_09</th>\n",
       "      <th>wr_10</th>\n",
       "      <th>wr_11</th>\n",
       "      <th>wr_12</th>\n",
       "      <th>wr_13</th>\n",
       "    </tr>\n",
       "  </thead>\n",
       "  <tbody>\n",
       "    <tr>\n",
       "      <th>0</th>\n",
       "      <td>0</td>\n",
       "      <td>3.0</td>\n",
       "      <td>363</td>\n",
       "      <td>4.0</td>\n",
       "      <td>1370</td>\n",
       "      <td>5.0</td>\n",
       "      <td>997</td>\n",
       "      <td>1.0</td>\n",
       "      <td>1024</td>\n",
       "      <td>2.0</td>\n",
       "      <td>...</td>\n",
       "      <td>0</td>\n",
       "      <td>1</td>\n",
       "      <td>0</td>\n",
       "      <td>1</td>\n",
       "      <td>1</td>\n",
       "      <td>0</td>\n",
       "      <td>1</td>\n",
       "      <td>0</td>\n",
       "      <td>1</td>\n",
       "      <td>1</td>\n",
       "    </tr>\n",
       "    <tr>\n",
       "      <th>1</th>\n",
       "      <td>1</td>\n",
       "      <td>5.0</td>\n",
       "      <td>647</td>\n",
       "      <td>5.0</td>\n",
       "      <td>1313</td>\n",
       "      <td>3.0</td>\n",
       "      <td>3387</td>\n",
       "      <td>5.0</td>\n",
       "      <td>2969</td>\n",
       "      <td>1.0</td>\n",
       "      <td>...</td>\n",
       "      <td>1</td>\n",
       "      <td>1</td>\n",
       "      <td>0</td>\n",
       "      <td>1</td>\n",
       "      <td>1</td>\n",
       "      <td>0</td>\n",
       "      <td>1</td>\n",
       "      <td>0</td>\n",
       "      <td>1</td>\n",
       "      <td>1</td>\n",
       "    </tr>\n",
       "    <tr>\n",
       "      <th>2</th>\n",
       "      <td>2</td>\n",
       "      <td>4.0</td>\n",
       "      <td>1623</td>\n",
       "      <td>1.0</td>\n",
       "      <td>1480</td>\n",
       "      <td>1.0</td>\n",
       "      <td>1021</td>\n",
       "      <td>4.0</td>\n",
       "      <td>3374</td>\n",
       "      <td>5.0</td>\n",
       "      <td>...</td>\n",
       "      <td>1</td>\n",
       "      <td>1</td>\n",
       "      <td>0</td>\n",
       "      <td>1</td>\n",
       "      <td>1</td>\n",
       "      <td>1</td>\n",
       "      <td>1</td>\n",
       "      <td>0</td>\n",
       "      <td>1</td>\n",
       "      <td>1</td>\n",
       "    </tr>\n",
       "    <tr>\n",
       "      <th>3</th>\n",
       "      <td>3</td>\n",
       "      <td>3.0</td>\n",
       "      <td>504</td>\n",
       "      <td>3.0</td>\n",
       "      <td>2311</td>\n",
       "      <td>4.0</td>\n",
       "      <td>992</td>\n",
       "      <td>3.0</td>\n",
       "      <td>3245</td>\n",
       "      <td>1.0</td>\n",
       "      <td>...</td>\n",
       "      <td>0</td>\n",
       "      <td>0</td>\n",
       "      <td>0</td>\n",
       "      <td>0</td>\n",
       "      <td>1</td>\n",
       "      <td>0</td>\n",
       "      <td>1</td>\n",
       "      <td>0</td>\n",
       "      <td>1</td>\n",
       "      <td>1</td>\n",
       "    </tr>\n",
       "    <tr>\n",
       "      <th>4</th>\n",
       "      <td>4</td>\n",
       "      <td>1.0</td>\n",
       "      <td>927</td>\n",
       "      <td>1.0</td>\n",
       "      <td>707</td>\n",
       "      <td>5.0</td>\n",
       "      <td>556</td>\n",
       "      <td>2.0</td>\n",
       "      <td>1062</td>\n",
       "      <td>1.0</td>\n",
       "      <td>...</td>\n",
       "      <td>1</td>\n",
       "      <td>1</td>\n",
       "      <td>1</td>\n",
       "      <td>1</td>\n",
       "      <td>1</td>\n",
       "      <td>0</td>\n",
       "      <td>1</td>\n",
       "      <td>1</td>\n",
       "      <td>1</td>\n",
       "      <td>1</td>\n",
       "    </tr>\n",
       "  </tbody>\n",
       "</table>\n",
       "<p>5 rows × 78 columns</p>\n",
       "</div>"
      ],
      "text/plain": [
       "   index  QaA   QaE  QbA   QbE  QcA   QcE  QdA   QdE  QeA  ...  wr_04  wr_05  \\\n",
       "0      0  3.0   363  4.0  1370  5.0   997  1.0  1024  2.0  ...      0      1   \n",
       "1      1  5.0   647  5.0  1313  3.0  3387  5.0  2969  1.0  ...      1      1   \n",
       "2      2  4.0  1623  1.0  1480  1.0  1021  4.0  3374  5.0  ...      1      1   \n",
       "3      3  3.0   504  3.0  2311  4.0   992  3.0  3245  1.0  ...      0      0   \n",
       "4      4  1.0   927  1.0   707  5.0   556  2.0  1062  1.0  ...      1      1   \n",
       "\n",
       "   wr_06  wr_07  wr_08  wr_09  wr_10  wr_11  wr_12  wr_13  \n",
       "0      0      1      1      0      1      0      1      1  \n",
       "1      0      1      1      0      1      0      1      1  \n",
       "2      0      1      1      1      1      0      1      1  \n",
       "3      0      0      1      0      1      0      1      1  \n",
       "4      1      1      1      0      1      1      1      1  \n",
       "\n",
       "[5 rows x 78 columns]"
      ]
     },
     "execution_count": 6,
     "metadata": {},
     "output_type": "execute_result"
    }
   ],
   "source": [
    "train.head()"
   ]
  },
  {
   "cell_type": "code",
   "execution_count": 7,
   "metadata": {
    "colab": {
     "base_uri": "https://localhost:8080/",
     "height": 1000
    },
    "id": "hfR8rKt9xxWW",
    "outputId": "5383d3a7-7896-4ee2-8225-d51db3b0332c"
   },
   "outputs": [
    {
     "name": "stdout",
     "output_type": "stream",
     "text": [
      "<class 'pandas.core.frame.DataFrame'>\n",
      "RangeIndex: 45532 entries, 0 to 45531\n",
      "Data columns (total 78 columns):\n",
      " #   Column      Non-Null Count  Dtype  \n",
      "---  ------      --------------  -----  \n",
      " 0   index       45532 non-null  int64  \n",
      " 1   QaA         45532 non-null  float64\n",
      " 2   QaE         45532 non-null  int64  \n",
      " 3   QbA         45532 non-null  float64\n",
      " 4   QbE         45532 non-null  int64  \n",
      " 5   QcA         45532 non-null  float64\n",
      " 6   QcE         45532 non-null  int64  \n",
      " 7   QdA         45532 non-null  float64\n",
      " 8   QdE         45532 non-null  int64  \n",
      " 9   QeA         45532 non-null  float64\n",
      " 10  QeE         45532 non-null  int64  \n",
      " 11  QfA         45532 non-null  float64\n",
      " 12  QfE         45532 non-null  int64  \n",
      " 13  QgA         45532 non-null  float64\n",
      " 14  QgE         45532 non-null  int64  \n",
      " 15  QhA         45532 non-null  float64\n",
      " 16  QhE         45532 non-null  int64  \n",
      " 17  QiA         45532 non-null  float64\n",
      " 18  QiE         45532 non-null  int64  \n",
      " 19  QjA         45532 non-null  float64\n",
      " 20  QjE         45532 non-null  int64  \n",
      " 21  QkA         45532 non-null  float64\n",
      " 22  QkE         45532 non-null  int64  \n",
      " 23  QlA         45532 non-null  float64\n",
      " 24  QlE         45532 non-null  int64  \n",
      " 25  QmA         45532 non-null  float64\n",
      " 26  QmE         45532 non-null  int64  \n",
      " 27  QnA         45532 non-null  float64\n",
      " 28  QnE         45532 non-null  int64  \n",
      " 29  QoA         45532 non-null  float64\n",
      " 30  QoE         45532 non-null  int64  \n",
      " 31  QpA         45532 non-null  float64\n",
      " 32  QpE         45532 non-null  int64  \n",
      " 33  QqA         45532 non-null  float64\n",
      " 34  QqE         45532 non-null  int64  \n",
      " 35  QrA         45532 non-null  float64\n",
      " 36  QrE         45532 non-null  int64  \n",
      " 37  QsA         45532 non-null  float64\n",
      " 38  QsE         45532 non-null  int64  \n",
      " 39  QtA         45532 non-null  float64\n",
      " 40  QtE         45532 non-null  int64  \n",
      " 41  age_group   45532 non-null  object \n",
      " 42  education   45532 non-null  int64  \n",
      " 43  engnat      45532 non-null  int64  \n",
      " 44  familysize  45532 non-null  int64  \n",
      " 45  gender      45532 non-null  object \n",
      " 46  hand        45532 non-null  int64  \n",
      " 47  married     45532 non-null  int64  \n",
      " 48  race        45532 non-null  object \n",
      " 49  religion    45532 non-null  object \n",
      " 50  tp01        45532 non-null  int64  \n",
      " 51  tp02        45532 non-null  int64  \n",
      " 52  tp03        45532 non-null  int64  \n",
      " 53  tp04        45532 non-null  int64  \n",
      " 54  tp05        45532 non-null  int64  \n",
      " 55  tp06        45532 non-null  int64  \n",
      " 56  tp07        45532 non-null  int64  \n",
      " 57  tp08        45532 non-null  int64  \n",
      " 58  tp09        45532 non-null  int64  \n",
      " 59  tp10        45532 non-null  int64  \n",
      " 60  urban       45532 non-null  int64  \n",
      " 61  voted       45532 non-null  int64  \n",
      " 62  wf_01       45532 non-null  int64  \n",
      " 63  wf_02       45532 non-null  int64  \n",
      " 64  wf_03       45532 non-null  int64  \n",
      " 65  wr_01       45532 non-null  int64  \n",
      " 66  wr_02       45532 non-null  int64  \n",
      " 67  wr_03       45532 non-null  int64  \n",
      " 68  wr_04       45532 non-null  int64  \n",
      " 69  wr_05       45532 non-null  int64  \n",
      " 70  wr_06       45532 non-null  int64  \n",
      " 71  wr_07       45532 non-null  int64  \n",
      " 72  wr_08       45532 non-null  int64  \n",
      " 73  wr_09       45532 non-null  int64  \n",
      " 74  wr_10       45532 non-null  int64  \n",
      " 75  wr_11       45532 non-null  int64  \n",
      " 76  wr_12       45532 non-null  int64  \n",
      " 77  wr_13       45532 non-null  int64  \n",
      "dtypes: float64(20), int64(54), object(4)\n",
      "memory usage: 27.1+ MB\n"
     ]
    }
   ],
   "source": [
    "train.info()"
   ]
  },
  {
   "cell_type": "code",
   "execution_count": 8,
   "metadata": {
    "id": "jIgcwhmAxxWb"
   },
   "outputs": [],
   "source": [
    "train = train.drop(['index'], axis=1)\n",
    "test = test.drop(['index'], axis=1)"
   ]
  },
  {
   "cell_type": "markdown",
   "metadata": {
    "id": "CidzD4GnxxWg"
   },
   "source": [
    "### age_group 형변환"
   ]
  },
  {
   "cell_type": "code",
   "execution_count": 9,
   "metadata": {
    "colab": {
     "base_uri": "https://localhost:8080/",
     "height": 36
    },
    "id": "mQ7592ZJxxWh",
    "outputId": "bf85070a-396f-466a-9f80-a34424898a69"
   },
   "outputs": [
    {
     "data": {
      "text/plain": [
       "array(['30s', '20s', '40s', '50s', '10s', '60s', '+70s'], dtype=object)"
      ]
     },
     "execution_count": 9,
     "metadata": {},
     "output_type": "execute_result"
    }
   ],
   "source": [
    "train['age_group'].unique()"
   ]
  },
  {
   "cell_type": "code",
   "execution_count": 10,
   "metadata": {
    "id": "9E_SbPxrxxWo"
   },
   "outputs": [],
   "source": [
    "train['age_group'] = train['age_group'].str.extractall(r'(\\d+)')[0].unstack().astype(int)\n",
    "test['age_group'] = test['age_group'].str.extractall(r'(\\d+)')[0].unstack().astype(int)"
   ]
  },
  {
   "cell_type": "markdown",
   "metadata": {
    "id": "P17QERshxxWw"
   },
   "source": [
    "### gender 형변환"
   ]
  },
  {
   "cell_type": "code",
   "execution_count": 11,
   "metadata": {
    "id": "t9ntF2W-xxWx"
   },
   "outputs": [],
   "source": [
    "train['gender'] = train['gender'].map({'Male': 0, 'Female': 1})\n",
    "test['gender'] = test['gender'].map({'Male': 0, 'Female': 1})"
   ]
  },
  {
   "cell_type": "markdown",
   "metadata": {
    "id": "DDcQf-vUxxW3"
   },
   "source": [
    "### race 형변환"
   ]
  },
  {
   "cell_type": "code",
   "execution_count": 12,
   "metadata": {
    "colab": {
     "base_uri": "https://localhost:8080/",
     "height": 55
    },
    "id": "Juz_NF2fxxW4",
    "outputId": "5ee28636-fc89-4bf2-b16f-eb2c8ca3d465"
   },
   "outputs": [
    {
     "data": {
      "text/plain": [
       "array(['White', 'Other', 'Asian', 'Native American', 'Arab', 'Black',\n",
       "       'Indigenous Australian'], dtype=object)"
      ]
     },
     "execution_count": 12,
     "metadata": {},
     "output_type": "execute_result"
    }
   ],
   "source": [
    "test['race'].unique()"
   ]
  },
  {
   "cell_type": "code",
   "execution_count": 13,
   "metadata": {
    "id": "3Cura-OFxxXA"
   },
   "outputs": [],
   "source": [
    "train['race'] = train['race'].map({'Asian': 0, \n",
    "                                   'Arab': 1, \n",
    "                                   'Black': 2, \n",
    "                                   'Indigenous Australian': 3, \n",
    "                                   'Native American': 4, \n",
    "                                   'White': 5, \n",
    "                                   'Other': 6})\n",
    "\n",
    "test['race'] = test['race'].map({'Asian': 0, \n",
    "                                 'Arab': 1, \n",
    "                                 'Black': 2, \n",
    "                                 'Indigenous Australian': 3, \n",
    "                                 'Native American': 4, \n",
    "                                 'White': 5, \n",
    "                                 'Other': 6})"
   ]
  },
  {
   "cell_type": "markdown",
   "metadata": {
    "id": "MxBtPq9BxxXH"
   },
   "source": [
    "### religion 형변환"
   ]
  },
  {
   "cell_type": "code",
   "execution_count": 14,
   "metadata": {
    "colab": {
     "base_uri": "https://localhost:8080/",
     "height": 73
    },
    "id": "tLd2Dm1sxxXI",
    "outputId": "5eff62d3-924b-4747-c16f-41c3e37cec78"
   },
   "outputs": [
    {
     "data": {
      "text/plain": [
       "array(['Other', 'Hindu', 'Agnostic', 'Atheist', 'Christian_Other',\n",
       "       'Christian_Catholic', 'Muslim', 'Buddhist', 'Christian_Protestant',\n",
       "       'Jewish', 'Christian_Mormon', 'Sikh'], dtype=object)"
      ]
     },
     "execution_count": 14,
     "metadata": {},
     "output_type": "execute_result"
    }
   ],
   "source": [
    "train['religion'].unique()"
   ]
  },
  {
   "cell_type": "code",
   "execution_count": 15,
   "metadata": {
    "id": "bxcnEyk5xxXN"
   },
   "outputs": [],
   "source": [
    "train['religion'] = train['religion'].map({\"Agnostic\": 0, \n",
    "                                           \"Atheist\": 1, \n",
    "                                           \"Buddhist\": 2, \n",
    "                                           \"Christian_Catholic\": 3, \n",
    "                                           \"Christian_Mormon\": 4, \n",
    "                                           \"Christian_Protestant\": 5, \n",
    "                                           \"Christian_Other\": 6, \n",
    "                                           \"Hindu\": 7, \n",
    "                                           \"Jewish\": 8, \n",
    "                                           \"Muslim\": 9, \n",
    "                                           \"Sikh\": 10, \n",
    "                                           \"Other\": 11})\n",
    "\n",
    "test['religion'] = test['religion'].map({\"Agnostic\": 0, \n",
    "                                         \"Atheist\": 1, \n",
    "                                         \"Buddhist\": 2, \n",
    "                                         \"Christian_Catholic\": 3, \n",
    "                                         \"Christian_Mormon\": 4, \n",
    "                                         \"Christian_Protestant\": 5, \n",
    "                                         \"Christian_Other\": 6, \n",
    "                                         \"Hindu\": 7, \n",
    "                                         \"Jewish\": 8, \n",
    "                                         \"Muslim\": 9, \n",
    "                                         \"Sikh\": 10, \n",
    "                                         \"Other\": 11})"
   ]
  },
  {
   "cell_type": "code",
   "execution_count": 16,
   "metadata": {
    "colab": {
     "base_uri": "https://localhost:8080/",
     "height": 202
    },
    "id": "Ubw73EWLxxXS",
    "outputId": "ad96f82f-d30c-499b-e424-45e2aecefe61"
   },
   "outputs": [
    {
     "data": {
      "text/html": [
       "<div>\n",
       "<style scoped>\n",
       "    .dataframe tbody tr th:only-of-type {\n",
       "        vertical-align: middle;\n",
       "    }\n",
       "\n",
       "    .dataframe tbody tr th {\n",
       "        vertical-align: top;\n",
       "    }\n",
       "\n",
       "    .dataframe thead th {\n",
       "        text-align: right;\n",
       "    }\n",
       "</style>\n",
       "<table border=\"1\" class=\"dataframe\">\n",
       "  <thead>\n",
       "    <tr style=\"text-align: right;\">\n",
       "      <th></th>\n",
       "      <th>age_group</th>\n",
       "      <th>gender</th>\n",
       "      <th>race</th>\n",
       "      <th>religion</th>\n",
       "    </tr>\n",
       "  </thead>\n",
       "  <tbody>\n",
       "    <tr>\n",
       "      <th>0</th>\n",
       "      <td>30</td>\n",
       "      <td>1</td>\n",
       "      <td>5</td>\n",
       "      <td>11</td>\n",
       "    </tr>\n",
       "    <tr>\n",
       "      <th>1</th>\n",
       "      <td>20</td>\n",
       "      <td>1</td>\n",
       "      <td>0</td>\n",
       "      <td>7</td>\n",
       "    </tr>\n",
       "    <tr>\n",
       "      <th>2</th>\n",
       "      <td>30</td>\n",
       "      <td>0</td>\n",
       "      <td>5</td>\n",
       "      <td>11</td>\n",
       "    </tr>\n",
       "    <tr>\n",
       "      <th>3</th>\n",
       "      <td>20</td>\n",
       "      <td>1</td>\n",
       "      <td>0</td>\n",
       "      <td>7</td>\n",
       "    </tr>\n",
       "    <tr>\n",
       "      <th>4</th>\n",
       "      <td>20</td>\n",
       "      <td>0</td>\n",
       "      <td>5</td>\n",
       "      <td>0</td>\n",
       "    </tr>\n",
       "  </tbody>\n",
       "</table>\n",
       "</div>"
      ],
      "text/plain": [
       "   age_group  gender  race  religion\n",
       "0         30       1     5        11\n",
       "1         20       1     0         7\n",
       "2         30       0     5        11\n",
       "3         20       1     0         7\n",
       "4         20       0     5         0"
      ]
     },
     "execution_count": 16,
     "metadata": {},
     "output_type": "execute_result"
    }
   ],
   "source": [
    "train[['age_group', 'gender', 'race', 'religion']].head()"
   ]
  },
  {
   "cell_type": "code",
   "execution_count": 17,
   "metadata": {
    "colab": {
     "base_uri": "https://localhost:8080/",
     "height": 202
    },
    "id": "Ea63XizzxxXX",
    "outputId": "fa4aad8b-6605-4aab-8949-1be2c0b10f2f"
   },
   "outputs": [
    {
     "data": {
      "text/html": [
       "<div>\n",
       "<style scoped>\n",
       "    .dataframe tbody tr th:only-of-type {\n",
       "        vertical-align: middle;\n",
       "    }\n",
       "\n",
       "    .dataframe tbody tr th {\n",
       "        vertical-align: top;\n",
       "    }\n",
       "\n",
       "    .dataframe thead th {\n",
       "        text-align: right;\n",
       "    }\n",
       "</style>\n",
       "<table border=\"1\" class=\"dataframe\">\n",
       "  <thead>\n",
       "    <tr style=\"text-align: right;\">\n",
       "      <th></th>\n",
       "      <th>age_group</th>\n",
       "      <th>gender</th>\n",
       "      <th>race</th>\n",
       "      <th>religion</th>\n",
       "    </tr>\n",
       "  </thead>\n",
       "  <tbody>\n",
       "    <tr>\n",
       "      <th>0</th>\n",
       "      <td>10</td>\n",
       "      <td>0</td>\n",
       "      <td>5</td>\n",
       "      <td>5</td>\n",
       "    </tr>\n",
       "    <tr>\n",
       "      <th>1</th>\n",
       "      <td>10</td>\n",
       "      <td>0</td>\n",
       "      <td>6</td>\n",
       "      <td>3</td>\n",
       "    </tr>\n",
       "    <tr>\n",
       "      <th>2</th>\n",
       "      <td>30</td>\n",
       "      <td>0</td>\n",
       "      <td>6</td>\n",
       "      <td>6</td>\n",
       "    </tr>\n",
       "    <tr>\n",
       "      <th>3</th>\n",
       "      <td>60</td>\n",
       "      <td>0</td>\n",
       "      <td>5</td>\n",
       "      <td>3</td>\n",
       "    </tr>\n",
       "    <tr>\n",
       "      <th>4</th>\n",
       "      <td>10</td>\n",
       "      <td>0</td>\n",
       "      <td>5</td>\n",
       "      <td>0</td>\n",
       "    </tr>\n",
       "  </tbody>\n",
       "</table>\n",
       "</div>"
      ],
      "text/plain": [
       "   age_group  gender  race  religion\n",
       "0         10       0     5         5\n",
       "1         10       0     6         3\n",
       "2         30       0     6         6\n",
       "3         60       0     5         3\n",
       "4         10       0     5         0"
      ]
     },
     "execution_count": 17,
     "metadata": {},
     "output_type": "execute_result"
    }
   ],
   "source": [
    "test[['age_group', 'gender', 'race', 'religion']].head()"
   ]
  },
  {
   "cell_type": "markdown",
   "metadata": {
    "id": "U7FBpHhtxxXc"
   },
   "source": [
    "### familysize 전처리"
   ]
  },
  {
   "cell_type": "code",
   "execution_count": 18,
   "metadata": {
    "colab": {
     "base_uri": "https://localhost:8080/",
     "height": 540
    },
    "id": "iOeQbeQHxxXd",
    "outputId": "b904b27e-8aaa-45c2-c102-d27d7fb771d3"
   },
   "outputs": [
    {
     "data": {
      "text/plain": [
       "2             17918\n",
       "3             11256\n",
       "1              6535\n",
       "4              4907\n",
       "5              1962\n",
       "0              1217\n",
       "6               838\n",
       "7               387\n",
       "8               221\n",
       "9               126\n",
       "10               59\n",
       "11               39\n",
       "12               21\n",
       "13               11\n",
       "14                9\n",
       "15                8\n",
       "44                3\n",
       "17                3\n",
       "21                2\n",
       "16                2\n",
       "20                2\n",
       "999               1\n",
       "100               1\n",
       "34                1\n",
       "18                1\n",
       "2147483647        1\n",
       "30                1\n",
       "Name: familysize, dtype: int64"
      ]
     },
     "execution_count": 18,
     "metadata": {},
     "output_type": "execute_result"
    }
   ],
   "source": [
    "train['familysize'].value_counts()"
   ]
  },
  {
   "cell_type": "code",
   "execution_count": 19,
   "metadata": {
    "id": "CQ8tjEeZxxXk"
   },
   "outputs": [],
   "source": [
    "median = train['familysize'].median()\n",
    "train['familysize'] = np.where(train['familysize'] >= 10, median, train['familysize'])"
   ]
  },
  {
   "cell_type": "markdown",
   "metadata": {
    "id": "Kc-2OinENoVT"
   },
   "source": [
    "## TIME 전처리"
   ]
  },
  {
   "cell_type": "code",
   "execution_count": 20,
   "metadata": {
    "id": "_hmyapPqNl8S"
   },
   "outputs": [],
   "source": [
    "train['time_sum'] = round(train.QaE/train.QaA.mean() + train.QbE/train.QbA.mean() + train.QcE/train.QcA.mean() + train.QdE/train.QdA.mean() + train.QeE/train.QeA.mean() + train.QfE/train.QfA.mean() + train.QgE/train.QgA.mean() + train.QhE/train.QhA.mean() +train.QiE/train.QiA.mean() + train.QjE/train.QjA.mean() + train.QkE/train.QkA.mean() + train.QlE/train.QlA.mean() + train.QmE/train.QmA.mean() + train.QnE/train.QnA.mean() + train.QoE/train.QoA.mean() + train.QpE/train.QpA.mean() + train.QqE/train.QqA.mean() + train.QrE/train.QrA.mean() + train.QsE/train.QsA.mean() + train.QtE/train.QtA.mean(), 2)"
   ]
  },
  {
   "cell_type": "markdown",
   "metadata": {
    "id": "1V7HfzSMxxXo"
   },
   "source": [
    "## 시각화"
   ]
  },
  {
   "cell_type": "code",
   "execution_count": 21,
   "metadata": {
    "colab": {
     "base_uri": "https://localhost:8080/",
     "height": 1000
    },
    "id": "iKqYl8BYxxXp",
    "outputId": "a63cac34-cb4d-4889-e3e3-26f9d49c2a29"
   },
   "outputs": [
    {
     "data": {
      "image/png": "[encoded data removed]",
      "text/plain": [
       "<Figure size 720x360 with 1 Axes>"
      ]
     },
     "metadata": {
      "needs_background": "light"
     },
     "output_type": "display_data"
    },
    {
     "data": {
      "image/png": "[encoded data removed]",
      "text/plain": [
       "<Figure size 720x360 with 1 Axes>"
      ]
     },
     "metadata": {
      "needs_background": "light"
     },
     "output_type": "display_data"
    },
    {
     "data": {
      "image/png": "[encoded data removed]",
      "text/plain": [
       "<Figure size 720x360 with 1 Axes>"
      ]
     },
     "metadata": {
      "needs_background": "light"
     },
     "output_type": "display_data"
    },
    {
     "data": {
      "image/png": "[encoded data removed]",
      "text/plain": [
       "<Figure size 720x360 with 1 Axes>"
      ]
     },
     "metadata": {
      "needs_background": "light"
     },
     "output_type": "display_data"
    },
    {
     "data": {
      "image/png": "[encoded data removed]",
      "text/plain": [
       "<Figure size 720x360 with 1 Axes>"
      ]
     },
     "metadata": {
      "needs_background": "light"
     },
     "output_type": "display_data"
    },
    {
     "data": {
      "image/png": "[encoded data removed]",
      "text/plain": [
       "<Figure size 720x360 with 1 Axes>"
      ]
     },
     "metadata": {
      "needs_background": "light"
     },
     "output_type": "display_data"
    },
    {
     "data": {
      "image/png": "[encoded data removed]",
      "text/plain": [
       "<Figure size 720x360 with 1 Axes>"
      ]
     },
     "metadata": {
      "needs_background": "light"
     },
     "output_type": "display_data"
    },
    {
     "data": {
      "image/png": "[encoded data removed]",
      "text/plain": [
       "<Figure size 720x360 with 1 Axes>"
      ]
     },
     "metadata": {
      "needs_background": "light"
     },
     "output_type": "display_data"
    },
    {
     "data": {
      "image/png": "[encoded data removed]",
      "text/plain": [
       "<Figure size 720x360 with 1 Axes>"
      ]
     },
     "metadata": {
      "needs_background": "light"
     },
     "output_type": "display_data"
    }
   ],
   "source": [
    "lis=['age_group', 'education', 'engnat', 'gender', 'hand', 'married', 'race', 'religion','urban']\n",
    "\n",
    "for i in lis:\n",
    "    plt.figure(figsize=(10,5))\n",
    "    plt.tick_params(rotation=45)\n",
    "    sns.countplot(x=f'{i}',hue='voted',palette='Set3',data=train)\n",
    "    plt.savefig(f'{i}.png')"
   ]
  },
  {
   "cell_type": "markdown",
   "metadata": {
    "id": "ziCLZa7txxXu"
   },
   "source": [
    "## Feature Engineering"
   ]
  },
  {
   "cell_type": "markdown",
   "metadata": {
    "id": "L_pnYETwxxXv"
   },
   "source": [
    "### 스코어 계산"
   ]
  },
  {
   "cell_type": "code",
   "execution_count": 32,
   "metadata": {
    "id": "2dAuJSbjxxXx"
   },
   "outputs": [
    {
     "data": {
      "text/plain": [
       "0    3.05\n",
       "1    3.40\n",
       "2    4.10\n",
       "3    2.65\n",
       "4    3.00\n",
       "Name: Score, dtype: float64"
      ]
     },
     "execution_count": 32,
     "metadata": {},
     "output_type": "execute_result"
    }
   ],
   "source": [
    "Qli = ['QaA','QbA','QcA','QdA','QeA','QfA','QgA','QhA','QiA','QjA','QkA','QlA','QmA','QnA','QoA','QpA','QqA','QrA','QsA','QtA']\n",
    "Qli_m = ['QaA','QdA','QeA','QfA','QgA','QiA','QkA','QnA','QqA','QrA']\n",
    "\n",
    "train[Qli_m]=6-train[Qli_m]\n",
    "test[Qli_m]=6-test[Qli_m]\n",
    "train[Qli_m].head()\n",
    "\n",
    "train['Score']=train[Qli].mean(axis=1)\n",
    "test['Score']=test[Qli].mean(axis=1)\n",
    "train['Score'].head()"
   ]
  },
  {
   "cell_type": "code",
   "execution_count": 23,
   "metadata": {
    "colab": {
     "base_uri": "https://localhost:8080/",
     "height": 222
    },
    "id": "92aXRsFzxxX2",
    "outputId": "e986e8f2-f4b9-4aad-cc59-9e8912355524"
   },
   "outputs": [
    {
     "data": {
      "text/html": [
       "<div>\n",
       "<style scoped>\n",
       "    .dataframe tbody tr th:only-of-type {\n",
       "        vertical-align: middle;\n",
       "    }\n",
       "\n",
       "    .dataframe tbody tr th {\n",
       "        vertical-align: top;\n",
       "    }\n",
       "\n",
       "    .dataframe thead th {\n",
       "        text-align: right;\n",
       "    }\n",
       "</style>\n",
       "<table border=\"1\" class=\"dataframe\">\n",
       "  <thead>\n",
       "    <tr style=\"text-align: right;\">\n",
       "      <th></th>\n",
       "      <th>QaA</th>\n",
       "      <th>QaE</th>\n",
       "      <th>QbA</th>\n",
       "      <th>QbE</th>\n",
       "      <th>QcA</th>\n",
       "      <th>QcE</th>\n",
       "      <th>QdA</th>\n",
       "      <th>QdE</th>\n",
       "      <th>QeA</th>\n",
       "      <th>QeE</th>\n",
       "      <th>...</th>\n",
       "      <th>wr_05</th>\n",
       "      <th>wr_06</th>\n",
       "      <th>wr_07</th>\n",
       "      <th>wr_08</th>\n",
       "      <th>wr_09</th>\n",
       "      <th>wr_10</th>\n",
       "      <th>wr_11</th>\n",
       "      <th>wr_12</th>\n",
       "      <th>wr_13</th>\n",
       "      <th>Score</th>\n",
       "    </tr>\n",
       "  </thead>\n",
       "  <tbody>\n",
       "    <tr>\n",
       "      <th>0</th>\n",
       "      <td>3.0</td>\n",
       "      <td>736</td>\n",
       "      <td>4.0</td>\n",
       "      <td>2941</td>\n",
       "      <td>3.0</td>\n",
       "      <td>4621</td>\n",
       "      <td>5.0</td>\n",
       "      <td>4857</td>\n",
       "      <td>4.0</td>\n",
       "      <td>2550</td>\n",
       "      <td>...</td>\n",
       "      <td>1</td>\n",
       "      <td>0</td>\n",
       "      <td>0</td>\n",
       "      <td>1</td>\n",
       "      <td>0</td>\n",
       "      <td>1</td>\n",
       "      <td>0</td>\n",
       "      <td>1</td>\n",
       "      <td>1</td>\n",
       "      <td>2.95</td>\n",
       "    </tr>\n",
       "    <tr>\n",
       "      <th>1</th>\n",
       "      <td>3.0</td>\n",
       "      <td>514</td>\n",
       "      <td>4.0</td>\n",
       "      <td>1952</td>\n",
       "      <td>3.0</td>\n",
       "      <td>1552</td>\n",
       "      <td>3.0</td>\n",
       "      <td>821</td>\n",
       "      <td>2.0</td>\n",
       "      <td>1150</td>\n",
       "      <td>...</td>\n",
       "      <td>0</td>\n",
       "      <td>0</td>\n",
       "      <td>0</td>\n",
       "      <td>0</td>\n",
       "      <td>0</td>\n",
       "      <td>0</td>\n",
       "      <td>0</td>\n",
       "      <td>0</td>\n",
       "      <td>0</td>\n",
       "      <td>2.90</td>\n",
       "    </tr>\n",
       "    <tr>\n",
       "      <th>2</th>\n",
       "      <td>3.0</td>\n",
       "      <td>500</td>\n",
       "      <td>4.0</td>\n",
       "      <td>2507</td>\n",
       "      <td>2.0</td>\n",
       "      <td>480</td>\n",
       "      <td>4.0</td>\n",
       "      <td>614</td>\n",
       "      <td>4.0</td>\n",
       "      <td>1326</td>\n",
       "      <td>...</td>\n",
       "      <td>1</td>\n",
       "      <td>0</td>\n",
       "      <td>1</td>\n",
       "      <td>1</td>\n",
       "      <td>0</td>\n",
       "      <td>1</td>\n",
       "      <td>0</td>\n",
       "      <td>1</td>\n",
       "      <td>1</td>\n",
       "      <td>2.95</td>\n",
       "    </tr>\n",
       "    <tr>\n",
       "      <th>3</th>\n",
       "      <td>5.0</td>\n",
       "      <td>669</td>\n",
       "      <td>5.0</td>\n",
       "      <td>1050</td>\n",
       "      <td>1.0</td>\n",
       "      <td>1435</td>\n",
       "      <td>4.0</td>\n",
       "      <td>2252</td>\n",
       "      <td>1.0</td>\n",
       "      <td>2533</td>\n",
       "      <td>...</td>\n",
       "      <td>1</td>\n",
       "      <td>1</td>\n",
       "      <td>1</td>\n",
       "      <td>1</td>\n",
       "      <td>1</td>\n",
       "      <td>1</td>\n",
       "      <td>1</td>\n",
       "      <td>1</td>\n",
       "      <td>1</td>\n",
       "      <td>3.55</td>\n",
       "    </tr>\n",
       "    <tr>\n",
       "      <th>4</th>\n",
       "      <td>4.0</td>\n",
       "      <td>499</td>\n",
       "      <td>5.0</td>\n",
       "      <td>1243</td>\n",
       "      <td>1.0</td>\n",
       "      <td>845</td>\n",
       "      <td>4.0</td>\n",
       "      <td>1666</td>\n",
       "      <td>4.0</td>\n",
       "      <td>925</td>\n",
       "      <td>...</td>\n",
       "      <td>1</td>\n",
       "      <td>0</td>\n",
       "      <td>1</td>\n",
       "      <td>1</td>\n",
       "      <td>0</td>\n",
       "      <td>1</td>\n",
       "      <td>1</td>\n",
       "      <td>1</td>\n",
       "      <td>1</td>\n",
       "      <td>3.00</td>\n",
       "    </tr>\n",
       "  </tbody>\n",
       "</table>\n",
       "<p>5 rows × 77 columns</p>\n",
       "</div>"
      ],
      "text/plain": [
       "   QaA  QaE  QbA   QbE  QcA   QcE  QdA   QdE  QeA   QeE  ...  wr_05  wr_06  \\\n",
       "0  3.0  736  4.0  2941  3.0  4621  5.0  4857  4.0  2550  ...      1      0   \n",
       "1  3.0  514  4.0  1952  3.0  1552  3.0   821  2.0  1150  ...      0      0   \n",
       "2  3.0  500  4.0  2507  2.0   480  4.0   614  4.0  1326  ...      1      0   \n",
       "3  5.0  669  5.0  1050  1.0  1435  4.0  2252  1.0  2533  ...      1      1   \n",
       "4  4.0  499  5.0  1243  1.0   845  4.0  1666  4.0   925  ...      1      0   \n",
       "\n",
       "   wr_07  wr_08  wr_09  wr_10  wr_11  wr_12  wr_13  Score  \n",
       "0      0      1      0      1      0      1      1   2.95  \n",
       "1      0      0      0      0      0      0      0   2.90  \n",
       "2      1      1      0      1      0      1      1   2.95  \n",
       "3      1      1      1      1      1      1      1   3.55  \n",
       "4      1      1      0      1      1      1      1   3.00  \n",
       "\n",
       "[5 rows x 77 columns]"
      ]
     },
     "execution_count": 23,
     "metadata": {},
     "output_type": "execute_result"
    }
   ],
   "source": [
    "test.head()"
   ]
  },
  {
   "cell_type": "markdown",
   "metadata": {
    "id": "U8bMdGy3P4Os"
   },
   "source": [
    "wf/wr"
   ]
  },
  {
   "cell_type": "code",
   "execution_count": 24,
   "metadata": {
    "id": "Y-4TZR2IQBg7"
   },
   "outputs": [],
   "source": [
    "train['train_wf']=train[['wf_01','wf_02','wf_03']].sum(axis=1)\n",
    "train['train_wr']=train[['wr_01','wr_02','wr_03','wr_04','wr_05','wr_06','wr_07','wr_08','wr_09','wr_10','wr_11','wr_12','wr_13']].sum(axis=1)"
   ]
  },
  {
   "cell_type": "code",
   "execution_count": 25,
   "metadata": {
    "colab": {
     "base_uri": "https://localhost:8080/",
     "height": 289
    },
    "id": "M-m8HUvdQHTD",
    "outputId": "efa43ef0-0998-4e6b-cc1f-a7ad1d2a57fc"
   },
   "outputs": [
    {
     "data": {
      "text/plain": [
       "<matplotlib.axes._subplots.AxesSubplot at 0x152eff66668>"
      ]
     },
     "execution_count": 25,
     "metadata": {},
     "output_type": "execute_result"
    },
    {
     "data": {
      "image/png": "[encoded data removed]",
      "text/plain": [
       "<Figure size 432x288 with 2 Axes>"
      ]
     },
     "metadata": {
      "needs_background": "light"
     },
     "output_type": "display_data"
    }
   ],
   "source": [
    "sns.heatmap(train[['train_wf','train_wr','Score']].corr())"
   ]
  },
  {
   "cell_type": "code",
   "execution_count": 26,
   "metadata": {
    "colab": {
     "base_uri": "https://localhost:8080/",
     "height": 213
    },
    "id": "GBqn6WDxQoP7",
    "outputId": "133be79b-33e4-454a-f602-53667792bdb8"
   },
   "outputs": [],
   "source": [
    "train['wf_std']=(train.train_wf-train.train_wf.mean())/np.std(train.train_wf)\n",
    "train['wr_std']=(train.train_wr-train.train_wr.mean())/np.std(train.train_wr)\n",
    "train['wf_wr_sum']=train['wf_std']+train['wr_std']"
   ]
  },
  {
   "cell_type": "markdown",
   "metadata": {
    "id": "x2xwMIkxxxX7"
   },
   "source": [
    "#### 스코어 상관계수"
   ]
  },
  {
   "cell_type": "code",
   "execution_count": 27,
   "metadata": {
    "colab": {
     "base_uri": "https://localhost:8080/",
     "height": 584
    },
    "id": "7SRESXOYxxX9",
    "outputId": "59e3c53c-87b2-462d-f4c1-d6fb97276f20"
   },
   "outputs": [
    {
     "data": {
      "image/png": "[encoded data removed]",
      "text/plain": [
       "<Figure size 864x720 with 2 Axes>"
      ]
     },
     "metadata": {
      "needs_background": "light"
     },
     "output_type": "display_data"
    }
   ],
   "source": [
    "fig, ax = plt.subplots(figsize=(12, 10))\n",
    "\n",
    "corr_df = train[['QbA','QcA','QeA','QfA','QhA','QjA','QkA','QmA','QoA','QqA','QrA','QsA']].corr()\n",
    "mask = np.triu(np.ones_like(corr_df, dtype=np.bool))\n",
    "mask = mask[1:, :-1]\n",
    "corr = corr_df.iloc[1:, :-1].copy()\n",
    "\n",
    "cmap = sns.diverging_palette(0, 230, 90, 60, as_cmap=True)\n",
    "sns.heatmap(corr, mask=mask, annot=True, fmt=\".2f\", linewidths=5, cmap=cmap, vmin=-1, vmax=1, cbar_kws={\"shrink\": .8}, square=True)\n",
    "\n",
    "yticks = [i for i in corr.index]\n",
    "xticks = [i for i in corr.columns]\n",
    "\n",
    "plt.yticks(plt.yticks()[0], labels=yticks, rotation=0)\n",
    "plt.xticks(plt.xticks()[0], labels=xticks)\n",
    "\n",
    "plt.show()"
   ]
  },
  {
   "cell_type": "markdown",
   "metadata": {
    "id": "PH_UOYvexxYC"
   },
   "source": [
    "### 카이제곱 검정"
   ]
  },
  {
   "cell_type": "code",
   "execution_count": 28,
   "metadata": {
    "colab": {
     "base_uri": "https://localhost:8080/",
     "height": 1000
    },
    "id": "8KTvvBQsxxYD",
    "outputId": "78d2f168-8271-4f43-91ff-304fb8d35c5f"
   },
   "outputs": [
    {
     "name": "stdout",
     "output_type": "stream",
     "text": [
      "chi 스퀘어 값: 7475.454986387315\n",
      "p-value (0.05): 0.0\n",
      "자유도 수: 6\n",
      "기대값: \n",
      "             0            1\n",
      "0  6441.893833  7773.106167\n",
      "1  6395.216727  7716.783273\n",
      "2  3551.085478  4284.914522\n",
      "3  2288.990907  2762.009093\n",
      "4  1309.224853  1579.775147\n",
      "5   541.091891   652.908109\n",
      "6   106.496310   128.503690\n",
      "측정값: \n",
      "voted         1      2\n",
      "age_group             \n",
      "10         2314  11901\n",
      "20         7484   6628\n",
      "30         4614   3222\n",
      "40         3243   1808\n",
      "50         1936    953\n",
      "60          870    324\n",
      "70          173     62\n",
      "chi 스퀘어 값: 5988.477710918697\n",
      "p-value (0.05): 0.0\n",
      "자유도 수: 4\n",
      "기대값: \n",
      "             0            1\n",
      "0   239.276816   288.723184\n",
      "1  2305.758412  2782.241588\n",
      "2  7629.214399  9205.785601\n",
      "3  6900.507731  8326.492269\n",
      "4  3559.242643  4294.757357\n",
      "측정값: \n",
      "voted         1      2\n",
      "education             \n",
      "0           252    276\n",
      "1           253   4835\n",
      "2          6179  10656\n",
      "3          9083   6144\n",
      "4          4867   2987\n",
      "chi 스퀘어 값: 43.94729348940214\n",
      "p-value (0.05): 2.8639568574327355e-10\n",
      "자유도 수: 2\n",
      "기대값: \n",
      "              0             1\n",
      "0     34.894536     42.105464\n",
      "1  14965.677238  18058.322762\n",
      "2   5633.428226   6797.571774\n",
      "측정값: \n",
      "voted       1      2\n",
      "engnat              \n",
      "0          29     48\n",
      "1       15277  17747\n",
      "2        5328   7103\n",
      "chi 스퀘어 값: 8.448225825664064\n",
      "p-value (0.05): 0.0036539972685835534\n",
      "자유도 수: 1\n",
      "기대값: \n",
      "              0             1\n",
      "0  10974.558069  13242.441931\n",
      "1   9659.441931  11655.558069\n",
      "측정값: \n",
      "voted       1      2\n",
      "gender              \n",
      "0       10820  13397\n",
      "1        9814  11501\n",
      "chi 스퀘어 값: 19.855481090506565\n",
      "p-value (0.05): 0.00018185942290848493\n",
      "자유도 수: 3\n",
      "기대값: \n",
      "              0             1\n",
      "0     72.961302     88.038698\n",
      "1  17700.139946  21357.860054\n",
      "2   2126.300799   2565.699201\n",
      "3    734.597953    886.402047\n",
      "측정값: \n",
      "voted      1      2\n",
      "hand               \n",
      "0         59    102\n",
      "1      17759  21299\n",
      "2       2156   2536\n",
      "3        660    961\n",
      "chi 스퀘어 값: 2965.622510451814\n",
      "p-value (0.05): 0.0\n",
      "자유도 수: 3\n",
      "기대값: \n",
      "              0             1\n",
      "0     42.145348     50.854652\n",
      "1  14297.696126  17252.303874\n",
      "2   4558.495256   5500.504744\n",
      "3   1735.663270   2094.336730\n",
      "측정값: \n",
      "voted        1      2\n",
      "married              \n",
      "0           30     63\n",
      "1        11687  19863\n",
      "2         6705   3354\n",
      "3         2212   1618\n",
      "chi 스퀘어 값: 1178.4460505169247\n",
      "p-value (0.05): 2.2115413631550644e-251\n",
      "자유도 수: 6\n",
      "기대값: \n",
      "              0             1\n",
      "0   3097.003338   3736.996662\n",
      "1    159.064702    191.935298\n",
      "2    982.485109   1185.514891\n",
      "3     24.018317     28.981683\n",
      "4    248.340332    299.659668\n",
      "5  14160.837038  17087.162962\n",
      "6   1962.251164   2367.748836\n",
      "측정값: \n",
      "voted      1      2\n",
      "race               \n",
      "0       2019   4815\n",
      "1        102    249\n",
      "2        872   1296\n",
      "3         24     29\n",
      "4        226    322\n",
      "5      15756  15492\n",
      "6       1635   2695\n",
      "chi 스퀘어 값: 483.0373207167621\n",
      "p-value (0.05): 1.325359006070823e-96\n",
      "자유도 수: 11\n",
      "기대값: \n",
      "              0            1\n",
      "0   4361.363788  5262.636212\n",
      "1   4618.767636  5573.232364\n",
      "2    385.199420   464.800580\n",
      "3   2914.373496  3516.626504\n",
      "4    193.959237   234.040763\n",
      "5   2209.231969  2665.768031\n",
      "6   2327.964025  2809.035975\n",
      "7    647.588202   781.411798\n",
      "8    220.696609   266.303391\n",
      "9    540.185540   651.814460\n",
      "10    53.021567    63.978433\n",
      "11  2161.648511  2608.351489\n",
      "측정값: \n",
      "voted        1     2\n",
      "religion            \n",
      "0         4402  5222\n",
      "1         4355  5837\n",
      "2          322   528\n",
      "3         3045  3386\n",
      "4          163   265\n",
      "5         2756  2119\n",
      "6         2365  2772\n",
      "7          553   876\n",
      "8          268   219\n",
      "9          373   819\n",
      "10          42    75\n",
      "11        1990  2780\n",
      "chi 스퀘어 값: 191.66192520697254\n",
      "p-value (0.05): 2.670534531471731e-41\n",
      "자유도 수: 3\n",
      "기대값: \n",
      "             0             1\n",
      "0   145.922604    176.077396\n",
      "1  4037.343099   4871.656901\n",
      "2  8399.160063  10134.839937\n",
      "3  8051.574234   9715.425766\n",
      "측정값: \n",
      "voted     1      2\n",
      "urban             \n",
      "0       164    158\n",
      "1      4518   4391\n",
      "2      8497  10037\n",
      "3      7455  10312\n"
     ]
    }
   ],
   "source": [
    "from scipy.stats import chi2_contingency\n",
    "import scipy.stats\n",
    "\n",
    "for i in lis:\n",
    "    q = train.groupby(i)['voted'].value_counts().unstack()\n",
    "    chi, p, dof, expected = chi2_contingency(q)\n",
    "    \n",
    "    if p <= 0.05:\n",
    "       print(f\"chi 스퀘어 값: {chi}\",\n",
    "             f\"p-value (0.05): {p}\",\n",
    "             f\"자유도 수: {dof}\",\n",
    "             f\"기대값: \\n{pd.DataFrame(expected)}\",\n",
    "             f\"측정값: \\n{q}\", sep=\"\\n\")"
   ]
  },
  {
   "cell_type": "markdown",
   "metadata": {
    "id": "3sdoEGTMxxYI"
   },
   "source": [
    "## 모델링"
   ]
  },
  {
   "cell_type": "code",
   "execution_count": 29,
   "metadata": {
    "colab": {
     "base_uri": "https://localhost:8080/",
     "height": 435
    },
    "id": "DNQbz8abxxYI",
    "outputId": "b97f9d2e-6e2d-4275-f7f4-61f8a62d26e3"
   },
   "outputs": [
    {
     "data": {
      "text/html": [
       "<div>\n",
       "<style scoped>\n",
       "    .dataframe tbody tr th:only-of-type {\n",
       "        vertical-align: middle;\n",
       "    }\n",
       "\n",
       "    .dataframe tbody tr th {\n",
       "        vertical-align: top;\n",
       "    }\n",
       "\n",
       "    .dataframe thead th {\n",
       "        text-align: right;\n",
       "    }\n",
       "</style>\n",
       "<table border=\"1\" class=\"dataframe\">\n",
       "  <thead>\n",
       "    <tr style=\"text-align: right;\">\n",
       "      <th></th>\n",
       "      <th>QaA</th>\n",
       "      <th>QaE</th>\n",
       "      <th>QbA</th>\n",
       "      <th>QbE</th>\n",
       "      <th>QcA</th>\n",
       "      <th>QcE</th>\n",
       "      <th>QdA</th>\n",
       "      <th>QdE</th>\n",
       "      <th>QeA</th>\n",
       "      <th>QeE</th>\n",
       "      <th>...</th>\n",
       "      <th>wr_11</th>\n",
       "      <th>wr_12</th>\n",
       "      <th>wr_13</th>\n",
       "      <th>time_sum</th>\n",
       "      <th>Score</th>\n",
       "      <th>train_wf</th>\n",
       "      <th>train_wr</th>\n",
       "      <th>wf_std</th>\n",
       "      <th>wr_std</th>\n",
       "      <th>wf_wr_sum</th>\n",
       "    </tr>\n",
       "  </thead>\n",
       "  <tbody>\n",
       "    <tr>\n",
       "      <th>0</th>\n",
       "      <td>3.0</td>\n",
       "      <td>363</td>\n",
       "      <td>2.0</td>\n",
       "      <td>1370</td>\n",
       "      <td>1.0</td>\n",
       "      <td>997</td>\n",
       "      <td>5.0</td>\n",
       "      <td>1024</td>\n",
       "      <td>4.0</td>\n",
       "      <td>1577</td>\n",
       "      <td>...</td>\n",
       "      <td>0</td>\n",
       "      <td>1</td>\n",
       "      <td>1</td>\n",
       "      <td>6282.21</td>\n",
       "      <td>2.95</td>\n",
       "      <td>0</td>\n",
       "      <td>7</td>\n",
       "      <td>-0.523797</td>\n",
       "      <td>-0.962165</td>\n",
       "      <td>-1.485962</td>\n",
       "    </tr>\n",
       "    <tr>\n",
       "      <th>1</th>\n",
       "      <td>1.0</td>\n",
       "      <td>647</td>\n",
       "      <td>1.0</td>\n",
       "      <td>1313</td>\n",
       "      <td>3.0</td>\n",
       "      <td>3387</td>\n",
       "      <td>1.0</td>\n",
       "      <td>2969</td>\n",
       "      <td>5.0</td>\n",
       "      <td>4320</td>\n",
       "      <td>...</td>\n",
       "      <td>0</td>\n",
       "      <td>1</td>\n",
       "      <td>1</td>\n",
       "      <td>17275.52</td>\n",
       "      <td>2.80</td>\n",
       "      <td>0</td>\n",
       "      <td>8</td>\n",
       "      <td>-0.523797</td>\n",
       "      <td>-0.539503</td>\n",
       "      <td>-1.063301</td>\n",
       "    </tr>\n",
       "    <tr>\n",
       "      <th>2</th>\n",
       "      <td>2.0</td>\n",
       "      <td>1623</td>\n",
       "      <td>5.0</td>\n",
       "      <td>1480</td>\n",
       "      <td>5.0</td>\n",
       "      <td>1021</td>\n",
       "      <td>2.0</td>\n",
       "      <td>3374</td>\n",
       "      <td>1.0</td>\n",
       "      <td>1333</td>\n",
       "      <td>...</td>\n",
       "      <td>0</td>\n",
       "      <td>1</td>\n",
       "      <td>1</td>\n",
       "      <td>10753.31</td>\n",
       "      <td>3.20</td>\n",
       "      <td>1</td>\n",
       "      <td>10</td>\n",
       "      <td>0.924702</td>\n",
       "      <td>0.305820</td>\n",
       "      <td>1.230521</td>\n",
       "    </tr>\n",
       "    <tr>\n",
       "      <th>3</th>\n",
       "      <td>3.0</td>\n",
       "      <td>504</td>\n",
       "      <td>3.0</td>\n",
       "      <td>2311</td>\n",
       "      <td>2.0</td>\n",
       "      <td>992</td>\n",
       "      <td>3.0</td>\n",
       "      <td>3245</td>\n",
       "      <td>5.0</td>\n",
       "      <td>357</td>\n",
       "      <td>...</td>\n",
       "      <td>0</td>\n",
       "      <td>1</td>\n",
       "      <td>1</td>\n",
       "      <td>24268.20</td>\n",
       "      <td>2.45</td>\n",
       "      <td>0</td>\n",
       "      <td>5</td>\n",
       "      <td>-0.523797</td>\n",
       "      <td>-1.807488</td>\n",
       "      <td>-2.331285</td>\n",
       "    </tr>\n",
       "    <tr>\n",
       "      <th>4</th>\n",
       "      <td>5.0</td>\n",
       "      <td>927</td>\n",
       "      <td>5.0</td>\n",
       "      <td>707</td>\n",
       "      <td>1.0</td>\n",
       "      <td>556</td>\n",
       "      <td>4.0</td>\n",
       "      <td>1062</td>\n",
       "      <td>5.0</td>\n",
       "      <td>1014</td>\n",
       "      <td>...</td>\n",
       "      <td>1</td>\n",
       "      <td>1</td>\n",
       "      <td>1</td>\n",
       "      <td>6543.22</td>\n",
       "      <td>3.10</td>\n",
       "      <td>1</td>\n",
       "      <td>11</td>\n",
       "      <td>0.924702</td>\n",
       "      <td>0.728481</td>\n",
       "      <td>1.653183</td>\n",
       "    </tr>\n",
       "    <tr>\n",
       "      <th>...</th>\n",
       "      <td>...</td>\n",
       "      <td>...</td>\n",
       "      <td>...</td>\n",
       "      <td>...</td>\n",
       "      <td>...</td>\n",
       "      <td>...</td>\n",
       "      <td>...</td>\n",
       "      <td>...</td>\n",
       "      <td>...</td>\n",
       "      <td>...</td>\n",
       "      <td>...</td>\n",
       "      <td>...</td>\n",
       "      <td>...</td>\n",
       "      <td>...</td>\n",
       "      <td>...</td>\n",
       "      <td>...</td>\n",
       "      <td>...</td>\n",
       "      <td>...</td>\n",
       "      <td>...</td>\n",
       "      <td>...</td>\n",
       "      <td>...</td>\n",
       "    </tr>\n",
       "    <tr>\n",
       "      <th>45527</th>\n",
       "      <td>4.0</td>\n",
       "      <td>1050</td>\n",
       "      <td>1.0</td>\n",
       "      <td>619</td>\n",
       "      <td>2.0</td>\n",
       "      <td>328</td>\n",
       "      <td>5.0</td>\n",
       "      <td>285</td>\n",
       "      <td>5.0</td>\n",
       "      <td>602</td>\n",
       "      <td>...</td>\n",
       "      <td>0</td>\n",
       "      <td>1</td>\n",
       "      <td>1</td>\n",
       "      <td>4512.64</td>\n",
       "      <td>3.35</td>\n",
       "      <td>1</td>\n",
       "      <td>10</td>\n",
       "      <td>0.924702</td>\n",
       "      <td>0.305820</td>\n",
       "      <td>1.230521</td>\n",
       "    </tr>\n",
       "    <tr>\n",
       "      <th>45528</th>\n",
       "      <td>4.0</td>\n",
       "      <td>581</td>\n",
       "      <td>3.0</td>\n",
       "      <td>1353</td>\n",
       "      <td>2.0</td>\n",
       "      <td>1164</td>\n",
       "      <td>5.0</td>\n",
       "      <td>798</td>\n",
       "      <td>3.0</td>\n",
       "      <td>1680</td>\n",
       "      <td>...</td>\n",
       "      <td>0</td>\n",
       "      <td>1</td>\n",
       "      <td>1</td>\n",
       "      <td>8814.63</td>\n",
       "      <td>3.10</td>\n",
       "      <td>1</td>\n",
       "      <td>11</td>\n",
       "      <td>0.924702</td>\n",
       "      <td>0.728481</td>\n",
       "      <td>1.653183</td>\n",
       "    </tr>\n",
       "    <tr>\n",
       "      <th>45529</th>\n",
       "      <td>2.0</td>\n",
       "      <td>593</td>\n",
       "      <td>5.0</td>\n",
       "      <td>857</td>\n",
       "      <td>5.0</td>\n",
       "      <td>1047</td>\n",
       "      <td>2.0</td>\n",
       "      <td>1515</td>\n",
       "      <td>1.0</td>\n",
       "      <td>1690</td>\n",
       "      <td>...</td>\n",
       "      <td>0</td>\n",
       "      <td>1</td>\n",
       "      <td>1</td>\n",
       "      <td>8903.17</td>\n",
       "      <td>2.90</td>\n",
       "      <td>0</td>\n",
       "      <td>9</td>\n",
       "      <td>-0.523797</td>\n",
       "      <td>-0.116842</td>\n",
       "      <td>-0.640639</td>\n",
       "    </tr>\n",
       "    <tr>\n",
       "      <th>45530</th>\n",
       "      <td>5.0</td>\n",
       "      <td>747</td>\n",
       "      <td>3.0</td>\n",
       "      <td>1331</td>\n",
       "      <td>2.0</td>\n",
       "      <td>892</td>\n",
       "      <td>4.0</td>\n",
       "      <td>1281</td>\n",
       "      <td>5.0</td>\n",
       "      <td>1328</td>\n",
       "      <td>...</td>\n",
       "      <td>0</td>\n",
       "      <td>1</td>\n",
       "      <td>1</td>\n",
       "      <td>8238.65</td>\n",
       "      <td>3.40</td>\n",
       "      <td>0</td>\n",
       "      <td>10</td>\n",
       "      <td>-0.523797</td>\n",
       "      <td>0.305820</td>\n",
       "      <td>-0.217978</td>\n",
       "    </tr>\n",
       "    <tr>\n",
       "      <th>45531</th>\n",
       "      <td>3.0</td>\n",
       "      <td>496</td>\n",
       "      <td>1.0</td>\n",
       "      <td>1827</td>\n",
       "      <td>1.0</td>\n",
       "      <td>754</td>\n",
       "      <td>3.0</td>\n",
       "      <td>1117</td>\n",
       "      <td>5.0</td>\n",
       "      <td>432</td>\n",
       "      <td>...</td>\n",
       "      <td>0</td>\n",
       "      <td>1</td>\n",
       "      <td>1</td>\n",
       "      <td>9087.57</td>\n",
       "      <td>2.10</td>\n",
       "      <td>3</td>\n",
       "      <td>9</td>\n",
       "      <td>3.821700</td>\n",
       "      <td>-0.116842</td>\n",
       "      <td>3.704858</td>\n",
       "    </tr>\n",
       "  </tbody>\n",
       "</table>\n",
       "<p>45532 rows × 84 columns</p>\n",
       "</div>"
      ],
      "text/plain": [
       "       QaA   QaE  QbA   QbE  QcA   QcE  QdA   QdE  QeA   QeE  ...  wr_11  \\\n",
       "0      3.0   363  2.0  1370  1.0   997  5.0  1024  4.0  1577  ...      0   \n",
       "1      1.0   647  1.0  1313  3.0  3387  1.0  2969  5.0  4320  ...      0   \n",
       "2      2.0  1623  5.0  1480  5.0  1021  2.0  3374  1.0  1333  ...      0   \n",
       "3      3.0   504  3.0  2311  2.0   992  3.0  3245  5.0   357  ...      0   \n",
       "4      5.0   927  5.0   707  1.0   556  4.0  1062  5.0  1014  ...      1   \n",
       "...    ...   ...  ...   ...  ...   ...  ...   ...  ...   ...  ...    ...   \n",
       "45527  4.0  1050  1.0   619  2.0   328  5.0   285  5.0   602  ...      0   \n",
       "45528  4.0   581  3.0  1353  2.0  1164  5.0   798  3.0  1680  ...      0   \n",
       "45529  2.0   593  5.0   857  5.0  1047  2.0  1515  1.0  1690  ...      0   \n",
       "45530  5.0   747  3.0  1331  2.0   892  4.0  1281  5.0  1328  ...      0   \n",
       "45531  3.0   496  1.0  1827  1.0   754  3.0  1117  5.0   432  ...      0   \n",
       "\n",
       "       wr_12  wr_13  time_sum  Score  train_wf  train_wr    wf_std    wr_std  \\\n",
       "0          1      1   6282.21   2.95         0         7 -0.523797 -0.962165   \n",
       "1          1      1  17275.52   2.80         0         8 -0.523797 -0.539503   \n",
       "2          1      1  10753.31   3.20         1        10  0.924702  0.305820   \n",
       "3          1      1  24268.20   2.45         0         5 -0.523797 -1.807488   \n",
       "4          1      1   6543.22   3.10         1        11  0.924702  0.728481   \n",
       "...      ...    ...       ...    ...       ...       ...       ...       ...   \n",
       "45527      1      1   4512.64   3.35         1        10  0.924702  0.305820   \n",
       "45528      1      1   8814.63   3.10         1        11  0.924702  0.728481   \n",
       "45529      1      1   8903.17   2.90         0         9 -0.523797 -0.116842   \n",
       "45530      1      1   8238.65   3.40         0        10 -0.523797  0.305820   \n",
       "45531      1      1   9087.57   2.10         3         9  3.821700 -0.116842   \n",
       "\n",
       "       wf_wr_sum  \n",
       "0      -1.485962  \n",
       "1      -1.063301  \n",
       "2       1.230521  \n",
       "3      -2.331285  \n",
       "4       1.653183  \n",
       "...          ...  \n",
       "45527   1.230521  \n",
       "45528   1.653183  \n",
       "45529  -0.640639  \n",
       "45530  -0.217978  \n",
       "45531   3.704858  \n",
       "\n",
       "[45532 rows x 84 columns]"
      ]
     },
     "execution_count": 29,
     "metadata": {},
     "output_type": "execute_result"
    }
   ],
   "source": [
    "train"
   ]
  },
  {
   "cell_type": "code",
   "execution_count": 30,
   "metadata": {
    "id": "BGVOuJdsxxYP"
   },
   "outputs": [],
   "source": [
    "cols = ['age_group', 'education', 'engnat', 'familysize', 'gender', 'hand', 'married', 'race', 'religion', 'urban', 'Score', 'voted']\n",
    "new_train = train[cols]\n",
    "new_test = test[cols[:-1]]"
   ]
  },
  {
   "cell_type": "code",
   "execution_count": 31,
   "metadata": {
    "id": "UeWLf_TVxxYU"
   },
   "outputs": [],
   "source": [
    "y_train = new_train['voted']\n",
    "x_train = new_train.drop('voted', axis=1)"
   ]
  },
  {
   "cell_type": "markdown",
   "metadata": {
    "id": "161ZcNksxxYa"
   },
   "source": [
    "### 교차검증\n",
    "* 10 개의 분류 모델들을 Stratified K-Fold를 사용하여 교차 검증"
   ]
  },
  {
   "cell_type": "code",
   "execution_count": null,
   "metadata": {
    "id": "gfci5Z1kxxYb"
   },
   "outputs": [],
   "source": [
    "kfold = StratifiedKFold(n_splits=10)"
   ]
  },
  {
   "cell_type": "code",
   "execution_count": null,
   "metadata": {
    "colab": {
     "base_uri": "https://localhost:8080/",
     "height": 390
    },
    "id": "grsQGVrexxYh",
    "outputId": "47d79987-92ec-4574-f962-b9733bb3be6e"
   },
   "outputs": [
    {
     "name": "stderr",
     "output_type": "stream",
     "text": [
      "/usr/local/lib/python3.6/dist-packages/joblib/externals/loky/process_executor.py:691: UserWarning: A worker stopped while some jobs were given to the executor. This can be caused by a too short worker timeout or by a memory leak.\n",
      "  \"timeout or by a memory leak.\", UserWarning\n",
      "/usr/local/lib/python3.6/dist-packages/seaborn/_decorators.py:43: FutureWarning: Pass the following variables as keyword args: x, y. From version 0.12, the only valid positional argument will be `data`, and passing other arguments without an explicit keyword will result in an error or misinterpretation.\n",
      "  FutureWarning\n"
     ]
    },
    {
     "data": {
      "image/png": "[encoded data removed]",
      "text/plain": [
       "<Figure size 432x288 with 1 Axes>"
      ]
     },
     "metadata": {
      "needs_background": "light",
      "tags": []
     },
     "output_type": "display_data"
    }
   ],
   "source": [
    "random_state = 2\n",
    "classifiers = []\n",
    "classifiers.append(SVC(random_state=random_state))\n",
    "classifiers.append(DecisionTreeClassifier(random_state=random_state))\n",
    "classifiers.append(AdaBoostClassifier(DecisionTreeClassifier(random_state=random_state),random_state=random_state,learning_rate=0.1))\n",
    "classifiers.append(RandomForestClassifier(random_state=random_state))\n",
    "classifiers.append(ExtraTreesClassifier(random_state=random_state))\n",
    "classifiers.append(GradientBoostingClassifier(random_state=random_state))\n",
    "classifiers.append(MLPClassifier(random_state=random_state))\n",
    "classifiers.append(KNeighborsClassifier())\n",
    "classifiers.append(LogisticRegression(random_state=random_state))\n",
    "classifiers.append(LinearDiscriminantAnalysis())\n",
    "\n",
    "cv_results = []\n",
    "for classifier in classifiers:\n",
    "    cv_results.append(cross_val_score(classifier, x_train, y_train, scoring=\"accuracy\", cv=kfold, n_jobs=4))\n",
    "\n",
    "cv_means = []\n",
    "cv_std = []\n",
    "for cv_result in cv_results:\n",
    "    cv_means.append(cv_result.mean())\n",
    "    cv_std.append(cv_result.std())\n",
    "\n",
    "cv_res = pd.DataFrame({\"CrossValMeans\":cv_means,\n",
    "                       \"CrossValerrors\": cv_std, \n",
    "                       \"Algorithm\": [\"SVC\", \"DecisionTree\", \"AdaBoost\",\n",
    "                                     \"RandomForest\", \"ExtraTrees\", \"GradientBoosting\", \n",
    "                                     \"MultipleLayerPerceptron\", \"KNeighboors\", \"LogisticRegression\",\n",
    "                                     \"LinearDiscriminantAnalysis\"]})\n",
    "\n",
    "g = sns.barplot(\"CrossValMeans\", \"Algorithm\",\n",
    "                data=cv_res,\n",
    "                palette=\"Set3\",\n",
    "                orient=\"h\",\n",
    "                **{'xerr':cv_std})\n",
    "\n",
    "g.set_xlabel(\"Mean Accuracy\")\n",
    "g = g.set_title(\"Cross validation scores\")"
   ]
  },
  {
   "cell_type": "code",
   "execution_count": null,
   "metadata": {
    "id": "cZ6N7k0qxxYl"
   },
   "outputs": [],
   "source": [
    "g.figure.savefig(\"cross_validations.png\")"
   ]
  },
  {
   "cell_type": "markdown",
   "metadata": {
    "id": "OziM2cOdxxYp"
   },
   "source": [
    "### 메타 모델링\n",
    "* Grid Search를 이용하여 모델들의 파라미터 튜닝"
   ]
  },
  {
   "cell_type": "markdown",
   "metadata": {
    "id": "cU0RVl3xxxYq"
   },
   "source": [
    "#### AdaBoost"
   ]
  },
  {
   "cell_type": "code",
   "execution_count": null,
   "metadata": {
    "id": "F3r10xoCxxYr"
   },
   "outputs": [],
   "source": [
    "DTC = DecisionTreeClassifier()\n",
    "\n",
    "adaDTC = AdaBoostClassifier(DTC, random_state=7)\n",
    "ada_param_grid = {\"base_estimator__criterion\": [\"gini\", \"entropy\"],\n",
    "                 \"base_estimator__splitter\": [\"best\", \"random\"],\n",
    "                 \"algorithm\": [\"SAMME\",\"SAMME.R\"],\n",
    "                 \"n_estimators\": [1,2],\n",
    "                 \"learning_rate\": [0.0001, 0.001, 0.01, 0.1, 0.2, 0.3,1.5]}\n",
    "\n",
    "gsadaDTC = GridSearchCV(adaDTC, param_grid=ada_param_grid,\n",
    "                        cv=kfold, scoring=\"accuracy\",\n",
    "                        n_jobs= 4, verbose=1)\n",
    "\n",
    "gsadaDTC.fit(x_train, y_train)\n",
    "ada_best = gsadaDTC.best_estimator_"
   ]
  },
  {
   "cell_type": "code",
   "execution_count": null,
   "metadata": {
    "id": "bsZfaZKTxxYy"
   },
   "outputs": [],
   "source": [
    "gsadaDTC.best_score_"
   ]
  },
  {
   "cell_type": "markdown",
   "metadata": {
    "id": "CqmP0MbzxxY3"
   },
   "source": [
    "#### Extra Trees "
   ]
  },
  {
   "cell_type": "code",
   "execution_count": null,
   "metadata": {
    "id": "xRMDkdKsxxY4"
   },
   "outputs": [],
   "source": [
    "ExtC = ExtraTreesClassifier()\n",
    "ex_param_grid = {\"max_depth\": [None],\n",
    "                 \"max_features\": [1, 3, 10],\n",
    "                 \"min_samples_split\": [2, 3, 10],\n",
    "                 \"min_samples_leaf\": [1, 3, 10],\n",
    "                 \"bootstrap\": [False],\n",
    "                 \"n_estimators\": [100,300],\n",
    "                 \"criterion\": [\"gini\"]}\n",
    "\n",
    "gsExtC = GridSearchCV(ExtC, param_grid=ex_param_grid, \n",
    "                      cv=kfold, scoring=\"accuracy\",\n",
    "                      n_jobs= 4, verbose = 1)\n",
    "\n",
    "gsExtC.fit(x_train, y_train)\n",
    "ExtC_best = gsExtC.best_estimator_\n",
    "\n",
    "gsExtC.best_score_"
   ]
  },
  {
   "cell_type": "markdown",
   "metadata": {
    "id": "yP-DcEyZxxY8"
   },
   "source": [
    "#### Random Forest"
   ]
  },
  {
   "cell_type": "code",
   "execution_count": null,
   "metadata": {
    "id": "I0lXAJvrxxY9"
   },
   "outputs": [],
   "source": [
    "RFC = RandomForestClassifier()\n",
    "\n",
    "rf_param_grid = {\"max_depth\": [None],\n",
    "                \"max_features\": [1, 3, 10],\n",
    "                \"min_samples_split\": [2, 3, 10],\n",
    "                \"min_samples_leaf\": [1, 3, 10],\n",
    "                \"bootstrap\": [False],\n",
    "                \"n_estimators\": [100,300],\n",
    "                \"criterion\": [\"gini\"]}\n",
    "\n",
    "gsRFC = GridSearchCV(RFC, param_grid=rf_param_grid, \n",
    "                     cv=kfold, scoring=\"accuracy\",\n",
    "                     n_jobs= 4, verbose = 1)\n",
    "\n",
    "gsRFC.fit(x_train, y_train)\n",
    "RFC_best = gsRFC.best_estimator_\n",
    "\n",
    "gsRFC.best_score_"
   ]
  },
  {
   "cell_type": "markdown",
   "metadata": {
    "id": "KG3CUHKbxxZB"
   },
   "source": [
    "#### Graident Boosting"
   ]
  },
  {
   "cell_type": "code",
   "execution_count": null,
   "metadata": {
    "id": "IhfQ7wdgxxZC"
   },
   "outputs": [],
   "source": [
    "GBC = GradientBoostingClassifier()\n",
    "gb_param_grid = {'loss' : [\"deviance\"],\n",
    "                'n_estimators': [100,200,300],\n",
    "                'learning_rate': [0.1, 0.05, 0.01],\n",
    "                'max_depth': [4, 8],\n",
    "                'min_samples_leaf': [100,150],\n",
    "                'max_features': [0.3, 0.1]}\n",
    "\n",
    "gsGBC = GridSearchCV(GBC, param_grid=gb_param_grid,\n",
    "                     cv=kfold, scoring=\"accuracy\",\n",
    "                     n_jobs= 4, verbose = 1)\n",
    "\n",
    "gsGBC.fit(x_train, y_train)\n",
    "GBC_best = gsGBC.best_estimator_\n",
    "\n",
    "gsGBC.best_score_"
   ]
  },
  {
   "cell_type": "markdown",
   "metadata": {
    "id": "4OO5QWAMxxZG"
   },
   "source": [
    "### 학습 커브 시각화"
   ]
  },
  {
   "cell_type": "code",
   "execution_count": null,
   "metadata": {
    "id": "B1FzEQk9xxZH"
   },
   "outputs": [],
   "source": [
    "def plot_learning_curve(estimator, title, X, y, ylim=None, cv=None,\n",
    "                        n_jobs=-1, train_sizes=np.linspace(.1, 1.0, 5)):\n",
    "    plt.figure()\n",
    "    plt.title(title)\n",
    "    \n",
    "    if ylim is not None:\n",
    "        plt.ylim(*ylim)\n",
    "        \n",
    "    plt.xlabel(\"training examples\")\n",
    "    plt.ylabel(\"score\")\n",
    "    \n",
    "    train_sizes, train_scores, test_scores = learning_curve(\n",
    "        estimator, X, y, cv=cv, n_jobs=n_jobs, train_sizes=train_sizes)\n",
    "    train_scores_mean = np.mean(train_scores, axis=1)\n",
    "    train_scores_std = np.std(train_scores, axis=1)\n",
    "    test_scores_mean = np.mean(test_scores, axis=1)\n",
    "    test_scores_std = np.std(test_scores, axis=1)\n",
    "    \n",
    "    plt.grid()\n",
    "    plt.fill_between(train_sizes, train_scores_mean - train_scores_std,\n",
    "                     train_scores_mean + train_scores_std, alpha=0.1,\n",
    "                     color=\"r\")\n",
    "    plt.fill_between(train_sizes, test_scores_mean - test_scores_std,\n",
    "                     test_scores_mean + test_scores_std, alpha=0.1, color=\"g\")\n",
    "    plt.plot(train_sizes, train_scores_mean, 'o-', color=\"r\",\n",
    "             label=\"training score\")\n",
    "    plt.plot(train_sizes, test_scores_mean, 'o-', color=\"g\",\n",
    "             label=\"cross-validation score\")\n",
    "    \n",
    "    plt.legend(loc=\"best\")\n",
    "    return plt"
   ]
  },
  {
   "cell_type": "code",
   "execution_count": null,
   "metadata": {
    "id": "j2t53C4exxZK"
   },
   "outputs": [],
   "source": [
    "g = plot_learning_curve(gsRFC.best_estimator_, \"Random Forest learning curves\", x_train, y_train, cv=kfold)\n",
    "g.savefig(\"random_forest.png\")"
   ]
  },
  {
   "cell_type": "code",
   "execution_count": null,
   "metadata": {
    "id": "Bhd6PmolxxZO"
   },
   "outputs": [],
   "source": [
    "g = plot_learning_curve(gsExtC.best_estimator_, \"ExtraTrees learning curves\", x_train, y_train, cv=kfold)\n",
    "g.savefig(\"extra_trees.png\")"
   ]
  },
  {
   "cell_type": "code",
   "execution_count": null,
   "metadata": {
    "id": "-sAPbD64xxZS"
   },
   "outputs": [],
   "source": [
    "g = plot_learning_curve(gsGBC.best_estimator_, \"GradientBoosting learning curves\", x_train, y_train, cv=kfold)\n",
    "g.savefig(\"gradient_boosting.png\")"
   ]
  },
  {
   "cell_type": "code",
   "execution_count": null,
   "metadata": {
    "id": "Ldqsl4GrxxZV"
   },
   "outputs": [],
   "source": [
    "g = plot_learning_curve(gsExtC.best_estimator_, \"AdaBoost learning curves\", x_train, y_train, cv=kfold)\n",
    "g.savefig(\"adaboost.png\")"
   ]
  },
  {
   "cell_type": "code",
   "execution_count": null,
   "metadata": {
    "id": "2LENEFdrxxZa"
   },
   "outputs": [],
   "source": [
    "nrows = ncols = 2\n",
    "fig, axes = plt.subplots(nrows = nrows, ncols = ncols, sharex=\"all\", figsize=(15,15))\n",
    "\n",
    "names_classifiers = [(\"ExtraTrees\",ExtC_best),(\"RandomForest\",RFC_best),(\"GradientBoosting\",GBC_best), (\"AdaBoost\", ada_best)]\n",
    "\n",
    "nclassifier = 0\n",
    "for row in range(nrows):\n",
    "    for col in range(ncols):\n",
    "        name = names_classifiers[nclassifier][0]\n",
    "        classifier = names_classifiers[nclassifier][1]\n",
    "        indices = np.argsort(classifier.feature_importances_)[::-1][:40]\n",
    "        g = sns.barplot(y=X_train.columns[indices][:40],x = classifier.feature_importances_[indices][:40] , orient='h',ax=axes[row][col])\n",
    "        g.set_xlabel(\"Relative importance\",fontsize=12)\n",
    "        g.set_ylabel(\"Features\",fontsize=12)\n",
    "        g.tick_params(labelsize=9)\n",
    "        g.set_title(name + \" feature importance\")\n",
    "        nclassifier += 1\n",
    "\n",
    "plt.show()"
   ]
  },
  {
   "cell_type": "code",
   "execution_count": null,
   "metadata": {
    "id": "RC40yyR5xxZi"
   },
   "outputs": [],
   "source": [
    "test_Voted_RFC = pd.Series(RFC_best.predict(new_test), name=\"RFC\")\n",
    "test_Voted_AdaC = pd.Series(ada_best.predict(new_test), name=\"Ada\")\n",
    "test_Voted_ExtC = pd.Series(ExtC_best.predict(new_test), name=\"ExtC\")\n",
    "test_Voted_GBC = pd.Series(GBC_best.predict(new_test), name=\"GBC\")\n",
    "\n",
    "ensemble_results = pd.concat([test_Voted_RFC, test_Voted_ExtC, test_Voted_AdaC, test_Voted_GBC], axis=1)"
   ]
  },
  {
   "cell_type": "markdown",
   "metadata": {
    "id": "M8dTFae1xxZo"
   },
   "source": [
    "### 모델 간의 상관계수 시각화"
   ]
  },
  {
   "cell_type": "code",
   "execution_count": null,
   "metadata": {
    "id": "qJX98teOxxZq"
   },
   "outputs": [],
   "source": [
    "import warnings\n",
    "import platform\n",
    "from matplotlib import font_manager, rc\n",
    "\n",
    "warnings.filterwarnings(\"ignore\")\n",
    "\n",
    "if platform.system()==\"Windows\":\n",
    "    font_name=font_manager.FontProperties(fname=\"c:/Windows/Fonts/malgun.ttf\").get_name()\n",
    "    rc('font', family=font_name)\n",
    "    \n",
    "matplotlib.rcParams['axes.unicode_minus']=False\n",
    "\n",
    "corr_df=ensemble_results.corr()\n",
    "fig, ax = plt.subplots()\n",
    "\n",
    "mask = np.triu(np.ones_like(corr_df, dtype=np.bool))\n",
    "mask = mask[1:, :-1]\n",
    "corr = corr_df.iloc[1:, :-1].copy()\n",
    "\n",
    "cmap = sns.diverging_palette(0, 230, 90, 60, as_cmap=True)\n",
    "\n",
    "sns.heatmap(corr, mask=mask, annot=True, fmt=\".2f\", linewidths=5, cmap=cmap, vmin=0.3, vmax=1.0, cbar_kws={\"shrink\": .8}, square=True)\n",
    "\n",
    "yticks = [i for i in corr.index]\n",
    "xticks = [i for i in corr.columns]\n",
    "\n",
    "plt.yticks(plt.yticks()[0], labels=yticks, rotation=0)\n",
    "plt.xticks(plt.xticks()[0], labels=xticks)\n",
    "\n",
    "plt.savefig(\"correlation.png\")\n",
    "plt.show()"
   ]
  },
  {
   "cell_type": "markdown",
   "metadata": {
    "id": "KECKyxL7xxZx"
   },
   "source": [
    "### 모델 테스트"
   ]
  },
  {
   "cell_type": "code",
   "execution_count": null,
   "metadata": {
    "id": "oy0d9V9FxxZy"
   },
   "outputs": [],
   "source": [
    "votingC = VotingClassifier(estimators=[('rfc', RFC_best), ('extc', ExtC_best), ('gbc',GBC_best)], \n",
    "                           voting='soft', n_jobs=4)\n",
    "votingC = votingC.fit(X_train, Y_train)"
   ]
  },
  {
   "cell_type": "code",
   "execution_count": null,
   "metadata": {
    "id": "w0VkXQDUxxZ8"
   },
   "outputs": [],
   "source": [
    "prediction = votingC.predict(new_test)\n",
    "temp = pd.read_csv(\"test_x.csv\")\n",
    "\n",
    "submission = pd.DataFrame({\"index\": temp['index'],\n",
    "                           \"voted\": prediction})\n",
    "submission.to_csv(\"submission.csv\", index=False)"
   ]
  },
  {
   "cell_type": "markdown",
   "metadata": {
    "id": "FbrcgY_ZxxaC"
   },
   "source": [
    "### 모델 저장"
   ]
  },
  {
   "cell_type": "code",
   "execution_count": null,
   "metadata": {
    "id": "7A9Jf30xxxaD"
   },
   "outputs": [],
   "source": [
    "with open('gsadaDTC.pkl', 'wb') as f:\n",
    "    pickle.dump(gsadaDTC, f)\n",
    "    \n",
    "with open('gsExtC.pkl', 'wb') as f:\n",
    "    pickle.dump(gsExtC, f)\n",
    "    \n",
    "with open('gsRFC.pkl', 'wb') as f:\n",
    "    pickle.dump(gsRFC, f)\n",
    "    \n",
    "with open('gsGBC.pkl', 'wb') as f:\n",
    "    pickle.dump(gsGBC, f)"
   ]
  },
  {
   "cell_type": "markdown",
   "metadata": {
    "id": "-yikjW8PxxaJ"
   },
   "source": [
    "\n",
    "### Auto ML\n"
   ]
  },
  {
   "cell_type": "code",
   "execution_count": null,
   "metadata": {
    "id": "YeXYF58SxxaM"
   },
   "outputs": [],
   "source": []
  },
  {
   "cell_type": "code",
   "execution_count": null,
   "metadata": {
    "id": "3FZ5YP5RxxaS"
   },
   "outputs": [],
   "source": []
  },
  {
   "cell_type": "code",
   "execution_count": null,
   "metadata": {
    "id": "G3KPuz1kxxab"
   },
   "outputs": [],
   "source": []
  },
  {
   "cell_type": "code",
   "execution_count": null,
   "metadata": {
    "id": "WlWhzVi8xxai"
   },
   "outputs": [],
   "source": []
  }
 ],
 "metadata": {
  "colab": {
   "include_colab_link": true,
   "name": "Modeling.ipynb의 사본",
   "provenance": []
  },
  "kernelspec": {
   "display_name": "Python 3",
   "language": "python",
   "name": "python3"
  },
  "language_info": {
   "codemirror_mode": {
    "name": "ipython",
    "version": 3
   },
   "file_extension": ".py",
   "mimetype": "text/x-python",
   "name": "python",
   "nbconvert_exporter": "python",
   "pygments_lexer": "ipython3",
   "version": "3.7.3"
  }
 },
 "nbformat": 4,
 "nbformat_minor": 1
}
